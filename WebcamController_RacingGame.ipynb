{
 "cells": [
  {
   "cell_type": "markdown",
   "metadata": {},
   "source": [
    "## First: Install Midiapipe"
   ]
  },
  {
   "cell_type": "code",
   "execution_count": 1,
   "metadata": {},
   "outputs": [],
   "source": [
    "# !pip install mediapipe\n",
    "# !pip install pynput"
   ]
  },
  {
   "cell_type": "code",
   "execution_count": 1,
   "metadata": {},
   "outputs": [],
   "source": [
    "import cv2\n",
    "import time\n",
    "import os\n",
    "import mediapipe as mp\n",
    "import pyvjoy\n",
    "from directkeys import PressKey, A, D, W, S, ReleaseKey"
   ]
  },
  {
   "cell_type": "markdown",
   "metadata": {},
   "source": [
    "# Class for detection of hands"
   ]
  },
  {
   "cell_type": "code",
   "execution_count": 2,
   "metadata": {},
   "outputs": [],
   "source": [
    "def rescale_frame(frame, percent=75):\n",
    "    width = int(frame.shape[1] * percent/ 100)\n",
    "    height = int(frame.shape[0] * percent/ 100)\n",
    "    dim = (width, height)\n",
    "    return cv2.resize(frame, dim, interpolation =cv2.INTER_AREA)"
   ]
  },
  {
   "cell_type": "code",
   "execution_count": 15,
   "metadata": {},
   "outputs": [],
   "source": [
    "def chooseImage(img, image_path):\n",
    "    s_img = cv2.imread(image_path, -1)\n",
    "    s_img = cv2.resize(s_img,(300, 300))\n",
    "                         \n",
    "    x_offset=y_offset=20\n",
    "    y1, y2 = y_offset, y_offset + s_img.shape[0]\n",
    "    x1, x2 = x_offset, x_offset + s_img.shape[1]\n",
    "    alpha_s = s_img[:, :, 3] / 255.0\n",
    "    alpha_l = 1.0 - alpha_s\n",
    "    for c in range(0, 3):\n",
    "        img[y1:y2, x1:x2, c] = (alpha_s * s_img[:, :, c] +\n",
    "                                  alpha_l * img[y1:y2, x1:x2, c])\n",
    "    return img"
   ]
  },
  {
   "cell_type": "code",
   "execution_count": 4,
   "metadata": {},
   "outputs": [],
   "source": [
    "def getCommand(hands):\n",
    "    command = \"stop.png\"\n",
    "    if len(hands) == 0:\n",
    "        ReleaseKey(D)\n",
    "        ReleaseKey(A)\n",
    "        ReleaseKey(S)\n",
    "        ReleaseKey(W)\n",
    "        \n",
    "    if len(hands) == 2:\n",
    "        handOneOpen = hands[0][0]>2\n",
    "        handOneDirection = hands[0][1] == \"Left\"\n",
    "        \n",
    "        handTwoOpen = hands[1][0]>2\n",
    "        handTwoDirection = hands[1][1] == \"Right\"\n",
    "        \n",
    "        if(handOneOpen and handTwoOpen):\n",
    "            command = \"speed.png\"\n",
    "            ReleaseKey(D)\n",
    "            ReleaseKey(A)\n",
    "            ReleaseKey(S)\n",
    "            PressKey(W)\n",
    "        else:\n",
    "            if(handOneOpen and handOneDirection):\n",
    "                command = \"left.png\"\n",
    "                ReleaseKey(W)\n",
    "                ReleaseKey(D)\n",
    "                ReleaseKey(S)\n",
    "                PressKey(A)\n",
    "            if(handTwoOpen and handTwoDirection):\n",
    "                command = \"right.png\"\n",
    "                ReleaseKey(W)\n",
    "                ReleaseKey(A)\n",
    "                ReleaseKey(S)\n",
    "                PressKey(D)\n",
    "            if(not(handOneOpen) and not(handTwoOpen)):\n",
    "                command = \"come_back.png\"\n",
    "                ReleaseKey(W)\n",
    "                ReleaseKey(D)\n",
    "                ReleaseKey(A)\n",
    "                PressKey(S)\n",
    "    \n",
    "    return \"./imagens_cars/\"+command"
   ]
  },
  {
   "cell_type": "code",
   "execution_count": 5,
   "metadata": {},
   "outputs": [],
   "source": [
    "class handDetector():\n",
    "    def __init__(self, mode=False, maxHands=2, detectionCon=0.5, trackCon=0.5):\n",
    "        self.mode = mode\n",
    "        self.maxHands = maxHands\n",
    "        self.detectionCon = detectionCon\n",
    "        self.trackCon = trackCon\n",
    " \n",
    "        self.mpHands = mp.solutions.hands\n",
    "        self.hands = self.mpHands.Hands(self.mode, self.maxHands,\n",
    "                                        self.detectionCon, self.trackCon)\n",
    "        self.mpDraw = mp.solutions.drawing_utils\n",
    " \n",
    "    def findHands(self, img, draw=True):\n",
    "        imgRGB = cv2.cvtColor(img, cv2.COLOR_BGR2RGB)\n",
    "        self.results = self.hands.process(imgRGB)\n",
    "        \n",
    "        num_hands = 0\n",
    "        if self.results.multi_handedness:\n",
    "            for handLms in self.results.multi_handedness:\n",
    "                num_hands = num_hands+1\n",
    "            num_hands = num_hands-1\n",
    "    \n",
    "        if self.results.multi_hand_landmarks:\n",
    "            for handLms in self.results.multi_hand_landmarks:\n",
    "                if draw:\n",
    "                    self.mpDraw.draw_landmarks(img, handLms,\n",
    "                                               self.mpHands.HAND_CONNECTIONS)\n",
    "        return img, num_hands\n",
    " \n",
    "    def findPosition(self, img, num_hands=0, draw=True):\n",
    "        hands = []\n",
    "        for i in range(num_hands+1):\n",
    "            lmList = []\n",
    "            if self.results.multi_hand_landmarks:\n",
    "                left_right = \"\"\n",
    "                left_right = self.results.multi_handedness[i].classification[0].label\n",
    "                \n",
    "                myHand = self.results.multi_hand_landmarks[i]\n",
    "                \n",
    "                for id, lm in enumerate(myHand.landmark):\n",
    "                    # print(id, lm)\n",
    "                    h, w, c = img.shape\n",
    "                    cx, cy = int(lm.x * w), int(lm.y * h)\n",
    "                    # print(id, cx, cy)\n",
    "                    lmList.append([id, cx, cy])\n",
    "                    if draw:\n",
    "                        cv2.circle(img, (cx, cy), 105, (255, 0, 255), cv2.FILLED)\n",
    "                    \n",
    "                hands.append([lmList, left_right])\n",
    "        return hands"
   ]
  },
  {
   "cell_type": "code",
   "execution_count": 6,
   "metadata": {},
   "outputs": [],
   "source": [
    "def checkHand(num_hands):\n",
    "    hands = detector.findPosition(img, num_hands=num_hands, draw=False)\n",
    "    detection = []\n",
    "    for i in hands:\n",
    "        lmList = i[0]\n",
    "        if len(lmList) != 0:\n",
    "            fingers = []\n",
    "            # Thumb\n",
    "            if lmList[tipIds[0]][1] > lmList[tipIds[0] - 1][1]:\n",
    "                fingers.append(1)\n",
    "            else:\n",
    "                fingers.append(0)\n",
    "            # 4 Fingers\n",
    "            for id in range(1, 5):\n",
    "                if lmList[tipIds[id]][2] < lmList[tipIds[id] - 2][2]:\n",
    "                    fingers.append(1)\n",
    "                else:\n",
    "                    fingers.append(0)\n",
    "            totalFingers = fingers.count(1)\n",
    "            detection.append([totalFingers, i[1]])\n",
    "            \n",
    "    return detection"
   ]
  },
  {
   "cell_type": "markdown",
   "metadata": {},
   "source": [
    "## Configurations of video"
   ]
  },
  {
   "cell_type": "code",
   "execution_count": 7,
   "metadata": {},
   "outputs": [],
   "source": [
    "# Configurations\n",
    "fontColor = (255, 0, 0);\n",
    "fontSize = 2;\n",
    "fontBody = 3;\n",
    "FPSPosition = (5, 30);\n",
    "NumberPosition = (5, 90);\n",
    "\n",
    "pTime = 0\n",
    "tipIds = [4, 8, 12, 16, 20]\n",
    "\n",
    "detector = handDetector(detectionCon=0.75)"
   ]
  },
  {
   "cell_type": "markdown",
   "metadata": {},
   "source": [
    "## Start the application"
   ]
  },
  {
   "cell_type": "code",
   "execution_count": 22,
   "metadata": {},
   "outputs": [],
   "source": [
    "cap = cv2.VideoCapture(0)\n",
    "\n",
    "while cap.isOpened():\n",
    "    # captures the video frame\n",
    "    success, img = cap.read()\n",
    "    img, num_hands = detector.findHands(img)\n",
    "    hands = checkHand(num_hands)\n",
    "    img = chooseImage(img, getCommand(hands));\n",
    "    \n",
    "    img = rescale_frame(img, percent=50)\n",
    "    cv2.imshow(\"Image\", img)\n",
    "    \n",
    "    # Press \"Q\" to close windows-video\n",
    "    if cv2.waitKey(1) & 0xFF == ord('q'):\n",
    "        break\n",
    "    \n",
    "cap.release()\n",
    "cv2.destroyAllWindows()"
   ]
  },
  {
   "cell_type": "code",
   "execution_count": null,
   "metadata": {},
   "outputs": [],
   "source": []
  },
  {
   "cell_type": "code",
   "execution_count": null,
   "metadata": {},
   "outputs": [],
   "source": []
  }
 ],
 "metadata": {
  "kernelspec": {
   "display_name": "Python 3",
   "language": "python",
   "name": "python3"
  },
  "language_info": {
   "codemirror_mode": {
    "name": "ipython",
    "version": 3
   },
   "file_extension": ".py",
   "mimetype": "text/x-python",
   "name": "python",
   "nbconvert_exporter": "python",
   "pygments_lexer": "ipython3",
   "version": "3.8.5"
  }
 },
 "nbformat": 4,
 "nbformat_minor": 5
}
